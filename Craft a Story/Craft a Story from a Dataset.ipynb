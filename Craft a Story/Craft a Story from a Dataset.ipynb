{
 "cells": [
  {
   "cell_type": "markdown",
   "metadata": {},
   "source": [
    "# Dogs of Zürich"
   ]
  },
  {
   "cell_type": "code",
   "execution_count": 1,
   "metadata": {},
   "outputs": [],
   "source": [
    "# Import relevant libraries\n",
    "import numpy as np \n",
    "import pandas as pd \n",
    "import matplotlib.pyplot as plt \n",
    "import seaborn as sns"
   ]
  },
  {
   "cell_type": "code",
   "execution_count": 2,
   "metadata": {},
   "outputs": [
    {
     "data": {
      "text/html": [
       "<div>\n",
       "<style scoped>\n",
       "    .dataframe tbody tr th:only-of-type {\n",
       "        vertical-align: middle;\n",
       "    }\n",
       "\n",
       "    .dataframe tbody tr th {\n",
       "        vertical-align: top;\n",
       "    }\n",
       "\n",
       "    .dataframe thead th {\n",
       "        text-align: right;\n",
       "    }\n",
       "</style>\n",
       "<table border=\"1\" class=\"dataframe\">\n",
       "  <thead>\n",
       "    <tr style=\"text-align: right;\">\n",
       "      <th></th>\n",
       "      <th>ALTER</th>\n",
       "      <th>GESCHLECHT</th>\n",
       "      <th>STADTKREIS</th>\n",
       "      <th>STADTQUARTIER</th>\n",
       "      <th>RASSE1</th>\n",
       "      <th>RASSE1_MISCHLING</th>\n",
       "      <th>RASSE2</th>\n",
       "      <th>RASSE2_MISCHLING</th>\n",
       "      <th>RASSENTYP</th>\n",
       "      <th>GEBURTSJAHR_HUND</th>\n",
       "      <th>GESCHLECHT_HUND</th>\n",
       "      <th>HUNDEFARBE</th>\n",
       "    </tr>\n",
       "    <tr>\n",
       "      <th>HALTER_ID</th>\n",
       "      <th></th>\n",
       "      <th></th>\n",
       "      <th></th>\n",
       "      <th></th>\n",
       "      <th></th>\n",
       "      <th></th>\n",
       "      <th></th>\n",
       "      <th></th>\n",
       "      <th></th>\n",
       "      <th></th>\n",
       "      <th></th>\n",
       "      <th></th>\n",
       "    </tr>\n",
       "  </thead>\n",
       "  <tbody>\n",
       "    <tr>\n",
       "      <th>126</th>\n",
       "      <td>61-70</td>\n",
       "      <td>m</td>\n",
       "      <td>9.0</td>\n",
       "      <td>92.0</td>\n",
       "      <td>Welsh Terrier</td>\n",
       "      <td>NaN</td>\n",
       "      <td>NaN</td>\n",
       "      <td>NaN</td>\n",
       "      <td>K</td>\n",
       "      <td>2011</td>\n",
       "      <td>w</td>\n",
       "      <td>schwarz/braun</td>\n",
       "    </tr>\n",
       "    <tr>\n",
       "      <th>171</th>\n",
       "      <td>61-70</td>\n",
       "      <td>m</td>\n",
       "      <td>3.0</td>\n",
       "      <td>31.0</td>\n",
       "      <td>Berner Sennenhund</td>\n",
       "      <td>NaN</td>\n",
       "      <td>NaN</td>\n",
       "      <td>NaN</td>\n",
       "      <td>I</td>\n",
       "      <td>2009</td>\n",
       "      <td>m</td>\n",
       "      <td>tricolor</td>\n",
       "    </tr>\n",
       "    <tr>\n",
       "      <th>574</th>\n",
       "      <td>61-70</td>\n",
       "      <td>w</td>\n",
       "      <td>2.0</td>\n",
       "      <td>23.0</td>\n",
       "      <td>Mischling gross</td>\n",
       "      <td>NaN</td>\n",
       "      <td>NaN</td>\n",
       "      <td>NaN</td>\n",
       "      <td>I</td>\n",
       "      <td>2013</td>\n",
       "      <td>w</td>\n",
       "      <td>schwarz</td>\n",
       "    </tr>\n",
       "    <tr>\n",
       "      <th>695</th>\n",
       "      <td>41-50</td>\n",
       "      <td>m</td>\n",
       "      <td>6.0</td>\n",
       "      <td>63.0</td>\n",
       "      <td>Labrador Retriever</td>\n",
       "      <td>NaN</td>\n",
       "      <td>NaN</td>\n",
       "      <td>NaN</td>\n",
       "      <td>I</td>\n",
       "      <td>2012</td>\n",
       "      <td>w</td>\n",
       "      <td>braun</td>\n",
       "    </tr>\n",
       "    <tr>\n",
       "      <th>893</th>\n",
       "      <td>61-70</td>\n",
       "      <td>w</td>\n",
       "      <td>7.0</td>\n",
       "      <td>71.0</td>\n",
       "      <td>Mittelschnauzer</td>\n",
       "      <td>NaN</td>\n",
       "      <td>NaN</td>\n",
       "      <td>NaN</td>\n",
       "      <td>I</td>\n",
       "      <td>2010</td>\n",
       "      <td>w</td>\n",
       "      <td>schwarz</td>\n",
       "    </tr>\n",
       "  </tbody>\n",
       "</table>\n",
       "</div>"
      ],
      "text/plain": [
       "           ALTER GESCHLECHT  STADTKREIS  STADTQUARTIER              RASSE1  \\\n",
       "HALTER_ID                                                                    \n",
       "126        61-70          m         9.0           92.0       Welsh Terrier   \n",
       "171        61-70          m         3.0           31.0   Berner Sennenhund   \n",
       "574        61-70          w         2.0           23.0     Mischling gross   \n",
       "695        41-50          m         6.0           63.0  Labrador Retriever   \n",
       "893        61-70          w         7.0           71.0     Mittelschnauzer   \n",
       "\n",
       "          RASSE1_MISCHLING RASSE2  RASSE2_MISCHLING RASSENTYP  \\\n",
       "HALTER_ID                                                       \n",
       "126                    NaN    NaN               NaN         K   \n",
       "171                    NaN    NaN               NaN         I   \n",
       "574                    NaN    NaN               NaN         I   \n",
       "695                    NaN    NaN               NaN         I   \n",
       "893                    NaN    NaN               NaN         I   \n",
       "\n",
       "           GEBURTSJAHR_HUND GESCHLECHT_HUND     HUNDEFARBE  \n",
       "HALTER_ID                                                   \n",
       "126                    2011               w  schwarz/braun  \n",
       "171                    2009               m       tricolor  \n",
       "574                    2013               w        schwarz  \n",
       "695                    2012               w          braun  \n",
       "893                    2010               w        schwarz  "
      ]
     },
     "execution_count": 2,
     "metadata": {},
     "output_type": "execute_result"
    }
   ],
   "source": [
    "# Load the data\n",
    "dogs17 = pd.read_csv('20170308hundehalter.csv', index_col=0)\n",
    "dogs17.head()"
   ]
  },
  {
   "cell_type": "code",
   "execution_count": 3,
   "metadata": {},
   "outputs": [
    {
     "data": {
      "text/plain": [
       "array([nan, 'Mischling'], dtype=object)"
      ]
     },
     "execution_count": 3,
     "metadata": {},
     "output_type": "execute_result"
    }
   ],
   "source": [
    "dogs17.RASSE1_MISCHLING.unique()"
   ]
  },
  {
   "cell_type": "code",
   "execution_count": 4,
   "metadata": {},
   "outputs": [
    {
     "data": {
      "text/plain": [
       "array([nan])"
      ]
     },
     "execution_count": 4,
     "metadata": {},
     "output_type": "execute_result"
    }
   ],
   "source": [
    "dogs17.RASSE2_MISCHLING.unique()"
   ]
  },
  {
   "cell_type": "code",
   "execution_count": 5,
   "metadata": {},
   "outputs": [],
   "source": [
    "# translate column names from German to English\n",
    "dogs17.rename({'ALTER': 'Age', 'GESCHLECHT': 'Gender', 'STADTKREIS': 'District', 'RASSE1': 'Breed1', 'RASSE2': 'Breed2', 'GEBURTSJAHR_HUND': 'BirthYear_Dog', 'GESCHLECHT_HUND': 'Gender_Dog', 'HUNDEFARBE': 'Color_Dog', 'RASSE1_MISCHLING': 'Mixed Breed', 'RASSENTYP':'Breed Type', 'STADTQUARTIER': 'City Quarter'}, axis='columns', inplace=True)"
   ]
  },
  {
   "cell_type": "code",
   "execution_count": 6,
   "metadata": {},
   "outputs": [
    {
     "data": {
      "text/html": [
       "<div>\n",
       "<style scoped>\n",
       "    .dataframe tbody tr th:only-of-type {\n",
       "        vertical-align: middle;\n",
       "    }\n",
       "\n",
       "    .dataframe tbody tr th {\n",
       "        vertical-align: top;\n",
       "    }\n",
       "\n",
       "    .dataframe thead th {\n",
       "        text-align: right;\n",
       "    }\n",
       "</style>\n",
       "<table border=\"1\" class=\"dataframe\">\n",
       "  <thead>\n",
       "    <tr style=\"text-align: right;\">\n",
       "      <th></th>\n",
       "      <th>Age</th>\n",
       "      <th>Gender</th>\n",
       "      <th>District</th>\n",
       "      <th>City Quarter</th>\n",
       "      <th>Breed1</th>\n",
       "      <th>Mixed Breed</th>\n",
       "      <th>Breed2</th>\n",
       "      <th>RASSE2_MISCHLING</th>\n",
       "      <th>Breed Type</th>\n",
       "      <th>BirthYear_Dog</th>\n",
       "      <th>Gender_Dog</th>\n",
       "      <th>Color_Dog</th>\n",
       "    </tr>\n",
       "    <tr>\n",
       "      <th>HALTER_ID</th>\n",
       "      <th></th>\n",
       "      <th></th>\n",
       "      <th></th>\n",
       "      <th></th>\n",
       "      <th></th>\n",
       "      <th></th>\n",
       "      <th></th>\n",
       "      <th></th>\n",
       "      <th></th>\n",
       "      <th></th>\n",
       "      <th></th>\n",
       "      <th></th>\n",
       "    </tr>\n",
       "  </thead>\n",
       "  <tbody>\n",
       "    <tr>\n",
       "      <th>126</th>\n",
       "      <td>61-70</td>\n",
       "      <td>m</td>\n",
       "      <td>9.0</td>\n",
       "      <td>92.0</td>\n",
       "      <td>Welsh Terrier</td>\n",
       "      <td>NaN</td>\n",
       "      <td>NaN</td>\n",
       "      <td>NaN</td>\n",
       "      <td>K</td>\n",
       "      <td>2011</td>\n",
       "      <td>w</td>\n",
       "      <td>schwarz/braun</td>\n",
       "    </tr>\n",
       "    <tr>\n",
       "      <th>171</th>\n",
       "      <td>61-70</td>\n",
       "      <td>m</td>\n",
       "      <td>3.0</td>\n",
       "      <td>31.0</td>\n",
       "      <td>Berner Sennenhund</td>\n",
       "      <td>NaN</td>\n",
       "      <td>NaN</td>\n",
       "      <td>NaN</td>\n",
       "      <td>I</td>\n",
       "      <td>2009</td>\n",
       "      <td>m</td>\n",
       "      <td>tricolor</td>\n",
       "    </tr>\n",
       "    <tr>\n",
       "      <th>574</th>\n",
       "      <td>61-70</td>\n",
       "      <td>w</td>\n",
       "      <td>2.0</td>\n",
       "      <td>23.0</td>\n",
       "      <td>Mischling gross</td>\n",
       "      <td>NaN</td>\n",
       "      <td>NaN</td>\n",
       "      <td>NaN</td>\n",
       "      <td>I</td>\n",
       "      <td>2013</td>\n",
       "      <td>w</td>\n",
       "      <td>schwarz</td>\n",
       "    </tr>\n",
       "    <tr>\n",
       "      <th>695</th>\n",
       "      <td>41-50</td>\n",
       "      <td>m</td>\n",
       "      <td>6.0</td>\n",
       "      <td>63.0</td>\n",
       "      <td>Labrador Retriever</td>\n",
       "      <td>NaN</td>\n",
       "      <td>NaN</td>\n",
       "      <td>NaN</td>\n",
       "      <td>I</td>\n",
       "      <td>2012</td>\n",
       "      <td>w</td>\n",
       "      <td>braun</td>\n",
       "    </tr>\n",
       "    <tr>\n",
       "      <th>893</th>\n",
       "      <td>61-70</td>\n",
       "      <td>w</td>\n",
       "      <td>7.0</td>\n",
       "      <td>71.0</td>\n",
       "      <td>Mittelschnauzer</td>\n",
       "      <td>NaN</td>\n",
       "      <td>NaN</td>\n",
       "      <td>NaN</td>\n",
       "      <td>I</td>\n",
       "      <td>2010</td>\n",
       "      <td>w</td>\n",
       "      <td>schwarz</td>\n",
       "    </tr>\n",
       "  </tbody>\n",
       "</table>\n",
       "</div>"
      ],
      "text/plain": [
       "             Age Gender  District  City Quarter              Breed1  \\\n",
       "HALTER_ID                                                             \n",
       "126        61-70      m       9.0          92.0       Welsh Terrier   \n",
       "171        61-70      m       3.0          31.0   Berner Sennenhund   \n",
       "574        61-70      w       2.0          23.0     Mischling gross   \n",
       "695        41-50      m       6.0          63.0  Labrador Retriever   \n",
       "893        61-70      w       7.0          71.0     Mittelschnauzer   \n",
       "\n",
       "          Mixed Breed Breed2  RASSE2_MISCHLING Breed Type  BirthYear_Dog  \\\n",
       "HALTER_ID                                                                  \n",
       "126               NaN    NaN               NaN          K           2011   \n",
       "171               NaN    NaN               NaN          I           2009   \n",
       "574               NaN    NaN               NaN          I           2013   \n",
       "695               NaN    NaN               NaN          I           2012   \n",
       "893               NaN    NaN               NaN          I           2010   \n",
       "\n",
       "          Gender_Dog      Color_Dog  \n",
       "HALTER_ID                            \n",
       "126                w  schwarz/braun  \n",
       "171                m       tricolor  \n",
       "574                w        schwarz  \n",
       "695                w          braun  \n",
       "893                w        schwarz  "
      ]
     },
     "execution_count": 6,
     "metadata": {},
     "output_type": "execute_result"
    }
   ],
   "source": [
    "dogs17.head()"
   ]
  },
  {
   "cell_type": "code",
   "execution_count": 7,
   "metadata": {},
   "outputs": [],
   "source": [
    "# drop column with all NAN\n",
    "dogs17.drop('RASSE2_MISCHLING', axis=1, inplace=True)"
   ]
  },
  {
   "cell_type": "code",
   "execution_count": 8,
   "metadata": {},
   "outputs": [
    {
     "data": {
      "text/plain": [
       "array([0., 1.])"
      ]
     },
     "execution_count": 8,
     "metadata": {},
     "output_type": "execute_result"
    }
   ],
   "source": [
    "# replace values - 1 for mixed breed, 0 for pure breed\n",
    "dogs17['Mixed Breed'].replace(to_replace='Mischling', value=1, inplace=True)\n",
    "dogs17['Mixed Breed'] = dogs17['Mixed Breed'].fillna(0)\n",
    "dogs17['Mixed Breed'].unique()"
   ]
  },
  {
   "cell_type": "code",
   "execution_count": 9,
   "metadata": {},
   "outputs": [
    {
     "name": "stdout",
     "output_type": "stream",
     "text": [
      "<class 'pandas.core.frame.DataFrame'>\n",
      "Int64Index: 7155 entries, 126 to 135731\n",
      "Data columns (total 11 columns):\n",
      " #   Column         Non-Null Count  Dtype  \n",
      "---  ------         --------------  -----  \n",
      " 0   Age            7154 non-null   object \n",
      " 1   Gender         7155 non-null   object \n",
      " 2   District       7154 non-null   float64\n",
      " 3   City Quarter   7154 non-null   float64\n",
      " 4   Breed1         7155 non-null   object \n",
      " 5   Mixed Breed    7155 non-null   float64\n",
      " 6   Breed2         543 non-null    object \n",
      " 7   Breed Type     7155 non-null   object \n",
      " 8   BirthYear_Dog  7155 non-null   int64  \n",
      " 9   Gender_Dog     7155 non-null   object \n",
      " 10  Color_Dog      7155 non-null   object \n",
      "dtypes: float64(3), int64(1), object(7)\n",
      "memory usage: 670.8+ KB\n"
     ]
    }
   ],
   "source": [
    "dogs17.info()"
   ]
  },
  {
   "cell_type": "code",
   "execution_count": 10,
   "metadata": {},
   "outputs": [],
   "source": [
    "# replace NaN values - no secondary breed for purebred dogs \n",
    "dogs17['Breed2'] = dogs17['Breed2'].fillna('None')"
   ]
  },
  {
   "cell_type": "code",
   "execution_count": 12,
   "metadata": {},
   "outputs": [],
   "source": [
    "# drop rows with missing data\n",
    "dogs17 = dogs17.dropna()"
   ]
  },
  {
   "cell_type": "code",
   "execution_count": 13,
   "metadata": {},
   "outputs": [
    {
     "name": "stdout",
     "output_type": "stream",
     "text": [
      "<class 'pandas.core.frame.DataFrame'>\n",
      "Int64Index: 7154 entries, 126 to 135731\n",
      "Data columns (total 11 columns):\n",
      " #   Column         Non-Null Count  Dtype  \n",
      "---  ------         --------------  -----  \n",
      " 0   Age            7154 non-null   object \n",
      " 1   Gender         7154 non-null   object \n",
      " 2   District       7154 non-null   float64\n",
      " 3   City Quarter   7154 non-null   float64\n",
      " 4   Breed1         7154 non-null   object \n",
      " 5   Mixed Breed    7154 non-null   float64\n",
      " 6   Breed2         7154 non-null   object \n",
      " 7   Breed Type     7154 non-null   object \n",
      " 8   BirthYear_Dog  7154 non-null   int64  \n",
      " 9   Gender_Dog     7154 non-null   object \n",
      " 10  Color_Dog      7154 non-null   object \n",
      "dtypes: float64(3), int64(1), object(7)\n",
      "memory usage: 670.7+ KB\n"
     ]
    }
   ],
   "source": [
    "dogs17.info()"
   ]
  },
  {
   "cell_type": "code",
   "execution_count": 15,
   "metadata": {},
   "outputs": [
    {
     "data": {
      "text/plain": [
       "array(['61-70', '41-50', '51-60', '71-80', '81-90', '31-40', '91-100',\n",
       "       '21-30', '11-20'], dtype=object)"
      ]
     },
     "execution_count": 15,
     "metadata": {},
     "output_type": "execute_result"
    }
   ],
   "source": [
    "dogs17['Age'].unique()"
   ]
  },
  {
   "cell_type": "code",
   "execution_count": 16,
   "metadata": {},
   "outputs": [
    {
     "data": {
      "text/plain": [
       "array([ 9.,  3.,  2.,  6.,  7., 10., 11.,  8.,  5.,  4., 12.,  1.])"
      ]
     },
     "execution_count": 16,
     "metadata": {},
     "output_type": "execute_result"
    }
   ],
   "source": [
    "dogs17['District'].unique()"
   ]
  },
  {
   "cell_type": "markdown",
   "metadata": {},
   "source": [
    "## How old were dog owners in Zurich in 2017?"
   ]
  },
  {
   "cell_type": "code",
   "execution_count": 21,
   "metadata": {},
   "outputs": [
    {
     "data": {
      "image/png": "[encoded data removed]",
      "text/plain": [
       "<Figure size 432x288 with 1 Axes>"
      ]
     },
     "metadata": {
      "needs_background": "light"
     },
     "output_type": "display_data"
    }
   ],
   "source": [
    "sns.countplot(x = 'Age', order=['11-20', '21-30', '31-40', '41-50', '51-60', '61-70', '71-80', '81-90', '91-100'], data = dogs17)\n",
    "plt.show()"
   ]
  },
  {
   "cell_type": "markdown",
   "metadata": {},
   "source": [
    "## How does dog age and owner age compare?"
   ]
  },
  {
   "cell_type": "code",
   "execution_count": 27,
   "metadata": {},
   "outputs": [],
   "source": [
    "dogs17['Dog Age']=2017 - dogs17.BirthYear_Dog"
   ]
  },
  {
   "cell_type": "code",
   "execution_count": 33,
   "metadata": {},
   "outputs": [
    {
     "data": {
      "image/png": "[encoded data removed]",
      "text/plain": [
       "<Figure size 432x288 with 1 Axes>"
      ]
     },
     "metadata": {
      "needs_background": "light"
     },
     "output_type": "display_data"
    }
   ],
   "source": [
    "sns.barplot(x = 'Age', y = 'Dog Age', order=['11-20', '21-30', '31-40', '41-50', '51-60', '61-70', '71-80', '81-90', '91-100'], data=dogs17)\n",
    "plt.show()"
   ]
  },
  {
   "cell_type": "markdown",
   "metadata": {},
   "source": [
    "## What is the most dog friendly district in Zurich in 2017?"
   ]
  },
  {
   "cell_type": "code",
   "execution_count": 35,
   "metadata": {},
   "outputs": [
    {
     "data": {
      "image/png": "[encoded data removed]",
      "text/plain": [
       "<Figure size 432x288 with 1 Axes>"
      ]
     },
     "metadata": {
      "needs_background": "light"
     },
     "output_type": "display_data"
    }
   ],
   "source": [
    "sns.countplot(x = 'District', color='c', data=dogs17)\n",
    "plt.show()"
   ]
  },
  {
   "cell_type": "code",
   "execution_count": null,
   "metadata": {},
   "outputs": [],
   "source": []
  }
 ],
 "metadata": {
  "kernelspec": {
   "display_name": "Python 3",
   "language": "python",
   "name": "python3"
  },
  "language_info": {
   "codemirror_mode": {
    "name": "ipython",
    "version": 3
   },
   "file_extension": ".py",
   "mimetype": "text/x-python",
   "name": "python",
   "nbconvert_exporter": "python",
   "pygments_lexer": "ipython3",
   "version": "3.7.6"
  }
 },
 "nbformat": 4,
 "nbformat_minor": 4
}
